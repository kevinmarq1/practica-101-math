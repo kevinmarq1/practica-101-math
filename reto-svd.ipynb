{
  "cells": [
    {
      "cell_type": "code",
      "execution_count": null,
      "metadata": {},
      "outputs": [],
      "source": [
        "!pip install notebook\n",
        "jupyter notebook\n"
      ]
    },
    {
      "cell_type": "code",
      "execution_count": null,
      "metadata": {},
      "outputs": [],
      "source": [
        "import numpy as np\n",
        "import matplotlib.pyplot as plt\n",
        "from scipy import misc, datasets\n",
        "from scipy.linalg import svd\n"
      ]
    },
    {
      "cell_type": "code",
      "execution_count": null,
      "metadata": {},
      "outputs": [],
      "source": [
        "# Función SSE\n",
        "def sse_score(X, X_hat):\n",
        "    return np.sum((X - X_hat) ** 2)\n"
      ]
    },
    {
      "cell_type": "code",
      "execution_count": null,
      "metadata": {},
      "outputs": [],
      "source": [
        "# Función SVD\n",
        "def svd_descomposicion(X):\n",
        "    U, S, Vt = svd(X, full_matrices=False)\n",
        "    return U, np.diag(S), Vt\n"
      ]
    },
    {
      "cell_type": "code",
      "execution_count": null,
      "metadata": {},
      "outputs": [],
      "source": [
        "# Función para reconstruir la imagen\n",
        "def reconstruction(U, S, Vt):\n",
        "    return np.dot(U, np.dot(S, Vt))\n"
      ]
    },
    {
      "cell_type": "code",
      "execution_count": null,
      "metadata": {},
      "outputs": [],
      "source": [
        "# Función para comprimir la imagen\n",
        "def image_compression(A, n_comp):\n",
        "    if len(A.shape) == 2:  # Imagen en escala de grises\n",
        "        U, S, Vt = svd_descomposicion(A)\n",
        "        U_reducido = U[:, :n_comp]\n",
        "        S_reducido = S[:n_comp, :n_comp]\n",
        "        Vt_reducido = Vt[:n_comp, :]\n",
        "        A_hat = reconstruction(U_reducido, S_reducido, Vt_reducido)\n",
        "        sse = sse_score(A, A_hat)\n",
        "    elif len(A.shape) == 3:  # Imagen en colores\n",
        "        A_hat = np.zeros_like(A)\n",
        "        sse = 0\n",
        "        for i in range(3):  # Aplicar SVD a cada canal\n",
        "            U, S, Vt = svd_descomposicion(A[:, :, i])\n",
        "            U_reducido = U[:, :n_comp]\n",
        "            S_reducido = S[:n_comp, :n_comp]\n",
        "            Vt_reducido = Vt[:n_comp, :]\n",
        "            A_hat[:, :, i] = reconstruction(U_reducido, S_reducido, Vt_reducido)\n",
        "            sse += sse_score(A[:, :, i], A_hat[:, :, i])\n",
        "    else:\n",
        "        raise ValueError(\"La imagen debe ser en escala de grises o en colores.\")\n",
        "    return A_hat, sse\n"
      ]
    },
    {
      "cell_type": "code",
      "execution_count": null,
      "metadata": {},
      "outputs": [],
      "source": [
        "# Cargar la imagen en escala de grises\n",
        "A = datasets.face(gray=True)\n",
        "# Mostrar la imagen original en escala de grises\n",
        "plt.imshow(A, cmap=plt.cm.gray)\n",
        "plt.title('Original en Escala de Grises')\n",
        "plt.show()\n"
      ]
    },
    {
      "cell_type": "code",
      "execution_count": null,
      "metadata": {},
      "outputs": [],
      "source": [
        "# Cargar la imagen en colores\n",
        "B = datasets.face(gray=False)\n",
        "# Mostrar la imagen original en colores\n",
        "plt.imshow(B)\n",
        "plt.title('Original en Colores')\n",
        "plt.show()\n"
      ]
    },
    {
      "cell_type": "code",
      "execution_count": null,
      "metadata": {},
      "outputs": [],
      "source

