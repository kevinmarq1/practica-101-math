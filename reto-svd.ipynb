{
  "cells": [
    {
      "cell_type": "code",
      "execution_count": null,
      "metadata": {},
      "outputs": [],
      "source": [
        "import numpy as np\n",
        "import matplotlib.pyplot as plt\n",
        "from scipy import misc, datasets\n",
        "from scipy.linalg import svd\n"
      ]
    },
    {
      "cell_type": "code",
      "execution_count": null,
      "metadata": {},
      "outputs": [],
      "source": [
        "# Función SSE\n",
        "def sse_score(X, X_hat):\n",
        "    return np.sum((X - X_hat) ** 2)\n"
      ]
    },
    {
      "cell_type": "code",
      "execution_count": null,
      "metadata": {},
      "outputs": [],
      "source": [
        "# Función SVD\n",
        "def svd_descomposicion(X):\n",
        "    U, S, Vt = svd(X, full_matrices=False)\n",
        "    return U, np.diag(S), Vt\n"
      ]
    },
    {
      "cell_type": "code",
      "execution_count": null,
      "metadata": {},
      "outputs": [],
      "source": [
        "# Función para reconstruir la imagen\n",
        "def reconstruction(U, S, Vt):\n",
        "    return np.dot(U, np.dot(S, Vt))\n"
      ]
    },
    {
      "cell_type": "code",
      "execution_count": null,
      "metadata": {},
      "outputs": [],
      "source": [
        "# Función para comprimir la imagen\n",
        "def image_compression(A, n_comp):\n",
        "    if len(A.shape) == 2:  # Imagen en escala de grises\n",
        "        U, S, Vt = svd_descomposicion(A)\n",
        "        U_reducido = U[:, :n_comp]\n",
        "        S_reducido = S[:n_comp, :n_comp]\n",
        "        Vt_reducido = Vt[:n_comp, :]\n",
        "        A_hat = reconstruction(U_reducido, S_reducido, Vt_reducido)\n",
        "        sse = sse_score(A, A_hat)\n",
        "    elif len(A.shape) == 3:  # Imagen en colores\n",
        "        A_hat = np.zeros_like(A)\n",
        "        sse = 0\n",
        "        for i in range(3):  # Aplicar SVD a cada canal\n",
        "            U, S, Vt = svd_descomposicion(A[:, :, i])\n",
        "            U_reducido = U[:, :n_comp]\n",
        "            S_reducido = S[:n_comp, :n_comp]\n",
        "            Vt_reducido = Vt[:n_comp, :]\n",
        "            A_hat[:, :, i] = reconstruction(U_reducido, S_reducido, Vt_reducido)\n",
        "            sse += sse_score(A[:, :, i], A_hat[:, :, i])\n",
        "    else:\n",
        "        raise ValueError(\"La imagen debe ser en escala de grises o en colores.\")\n",
        "    return A_hat, sse\n"
      ]
    },
    {
      "cell_type": "code",
      "execution_count": null,
      "metadata": {},
      "outputs": [],
      "source": [
        "# Cargar la imagen en escala de grises\n",
        "A = datasets.face(gray=True)\n",
        "# Cargar la imagen en colores\n",
        "B = datasets.face(gray=False)\n",
        "# Crear subplots\n",
        "fig, axes = plt.subplots(2, 4, figsize=(20, 10))\n",
        "# Mostrar la imagen original en escala de grises\n",
        "axes[0, 0].imshow(A, cmap=plt.cm.gray)\n",
        "axes[0, 0].set_title('Original en Escala de Grises')\n",
        "axes[0, 0].axis('off')\n",
        "# Mostrar la imagen original en colores\n",
        "axes[1, 0].imshow(B)\n",
        "axes[1, 0].set_title('Original en Colores')\n",
        "axes[1, 0].axis('off')\n",
        "# Comprimir y mostrar la imagen en escala de grises con 50 componentes\n",
        "racoon_hat_gray_50, sse_gray_50 = image_compression(A, n_comp=50)\n",
        "axes[0, 1].imshow(racoon_hat_gray_50, cmap=plt.cm.gray)\n",
        "axes[0, 1].set_title('Grises con 50 Componentes')\n",
        "axes[0, 1].axis('off')\n",
        "# Comprimir y mostrar la imagen en colores con 50 componentes\n",
        "racoon_hat_color_50, sse_color_50 = image_compression(B, n_comp=50)\n",
        "axes[1, 1].imshow(racoon_hat_color_50)\n",
        "axes[1, 1].set_title('Colores con 50 Componentes')\n",
        "axes[1, 1].axis('off')\n",
        "# Comprimir y mostrar la imagen en escala de grises con 25 componentes\n",
        "racoon_hat_gray_25, sse_gray_25 = image_compression(A, n_comp=25)\n",
        "axes[0, 2].imshow(racoon_hat_gray_25, cmap=plt.cm.gray)\n",
        "axes[0, 2].set_title('Grises con 25 Componentes')\n",
        "axes[0, 2].axis('off')\n",
        "# Comprimir y mostrar la imagen en colores con 25 componentes\n",
        "racoon_hat_color_25, sse_color_25 = image_compression(B, n_comp=25)\n",
        "axes[1, 2].imshow(racoon_hat_color_25)\n",
        "axes[1, 2].set_title('Colores con 25 Componentes')\n",
        "axes[1, 2].axis('off')\n",
        "# Comprimir y mostrar la imagen en escala de grises con 10 componentes\n",
        "racoon_hat_gray_10, sse_gray_10 = image_compression(A, n_comp=10)\n",
        "axes[0, 3].imshow(racoon_hat_gray_10, cmap=plt.cm.gray)\n",
        "axes[0, 3].set_title('Grises con 10 Componentes')\n",
        "axes[0, 3].axis('off')\n",
        "# Comprimir y mostrar la imagen en colores con 10 componentes\n",
        "racoon_hat_color_10, sse_color_10 = image_compression(B, n_comp=10)\n",
        "axes[1, 3].imshow(racoon_hat_color_10)\n",
        "axes[1, 3].set_title('Colores con 10 Componentes')\n",
        "axes[1, 3].axis('off')\n",
        "plt.tight_layout()\n",
        "plt.show()\n"
      ]
    }
  ],
  "metadata": {
    "kernelspec": {
      "display_name": "Python 3",
      "language": "python",
      "name": "python3"
    },
    "language_info": {
      "codemirror_mode": {
        "name": "ipython",
        "version": 3
      },
      "file_extension": ".py",
      "mimetype": "text/x-python",
      "name": "python",
      "nbconvert_exporter": "python",
      "pygments_lexer": "ipython3",
      "version": "3.8.5"
    }
  },
  "nbformat": 4,
  "nbformat_minor": 4
}

    }
  },
  "nbformat": 4,
  "nbformat_minor": 4
}
